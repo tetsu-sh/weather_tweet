{
 "cells": [
  {
   "cell_type": "code",
   "execution_count": 55,
   "metadata": {},
   "outputs": [
    {
     "name": "stdout",
     "output_type": "stream",
     "text": [
      "6.5 2.3\n",
      "14.7 13.6\n"
     ]
    }
   ],
   "source": [
    "from bs4 import BeautifulSoup\n",
    "import requests\n",
    "import pandas as pd\n",
    "import re\n",
    "\n",
    "url=\"https://tenki.jp/live/3/16/47662.html\"\n",
    "\n",
    "\"\"\"\n",
    "response=requests.get(url)\n",
    "res= BeautifulSoup(response.text,\"html.parser\")\n",
    "test=res.find_all(\"td\",class_=\"max-min-temp-entry\")\n",
    "test[2:4]\n",
    "today_min=test[3].text\n",
    "today_max=test[4]\n",
    "#today_min=today_min.strip(r'^[a-z]+$')\n",
    "#today_min=re.match('d+',today_min)\n",
    "today_min\n",
    "\"\"\"\n",
    "\n",
    "\n",
    "\n",
    "response=requests.get(url)\n",
    "res= BeautifulSoup(response.text,\"html.parser\")\n",
    "test1=res.find_all(\"span\",class_=\"max-min-temp-entry-value blue\")\n",
    "test2=res.find_all(\"span\",class_=\"max-min-temp-entry-value red\")\n",
    "print(test1[0].string,test1[1].string)\n",
    "print(test2[0].string,test2[1].string)\n",
    "\n",
    "\n",
    "\n"
   ]
  },
  {
   "cell_type": "code",
   "execution_count": null,
   "metadata": {},
   "outputs": [],
   "source": []
  }
 ],
 "metadata": {
  "kernelspec": {
   "display_name": "Python 3",
   "language": "python",
   "name": "python3"
  },
  "language_info": {
   "codemirror_mode": {
    "name": "ipython",
    "version": 3
   },
   "file_extension": ".py",
   "mimetype": "text/x-python",
   "name": "python",
   "nbconvert_exporter": "python",
   "pygments_lexer": "ipython3",
   "version": "3.7.2"
  }
 },
 "nbformat": 4,
 "nbformat_minor": 2
}
