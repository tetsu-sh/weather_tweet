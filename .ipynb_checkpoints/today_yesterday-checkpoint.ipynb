{
 "cells": [
  {
   "cell_type": "code",
   "execution_count": 8,
   "metadata": {},
   "outputs": [
    {
     "data": {
      "text/plain": [
       "[<td class=\"max-min-temp-entry\" colspan=\"4\">\n",
       " <span class=\"blue\">朝までの最低気温</span> <span class=\"max-min-temp-entry-value blue\">2.3</span><span class=\"blue\">℃</span>\n",
       " </td>, <td class=\"max-min-temp-entry\" colspan=\"4\">\n",
       " <span class=\"red\">夕方までの最高気温</span> <span class=\"max-min-temp-entry-value red\">13.6</span><span class=\"red\">℃</span>\n",
       " </td>]"
      ]
     },
     "execution_count": 8,
     "metadata": {},
     "output_type": "execute_result"
    }
   ],
   "source": [
    "from bs4 import BeautifulSoup\n",
    "import requests\n",
    "import pandas as pd\n",
    "\n",
    "url=\"https://tenki.jp/live/3/16/47662.html\"\n",
    "\n",
    "\n",
    "response=requests.get(url)\n",
    "res= BeautifulSoup(response.text,\"html.parser\")\n",
    "test=res.find_all(\"td\",class_=\"max-min-temp-entry\")\n",
    "test[2:4]\n",
    "today_min=test[3]\n",
    "today_max=test[4]\n",
    "today_min=today_min.rstrip(\"[a-z]\")"
   ]
  },
  {
   "cell_type": "code",
   "execution_count": null,
   "metadata": {},
   "outputs": [],
   "source": []
  }
 ],
 "metadata": {
  "kernelspec": {
   "display_name": "Python 3",
   "language": "python",
   "name": "python3"
  },
  "language_info": {
   "codemirror_mode": {
    "name": "ipython",
    "version": 3
   },
   "file_extension": ".py",
   "mimetype": "text/x-python",
   "name": "python",
   "nbconvert_exporter": "python",
   "pygments_lexer": "ipython3",
   "version": "3.7.2"
  }
 },
 "nbformat": 4,
 "nbformat_minor": 2
}
